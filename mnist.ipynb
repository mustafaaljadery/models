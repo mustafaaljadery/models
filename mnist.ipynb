{
 "cells": [
  {
   "cell_type": "code",
   "execution_count": 1,
   "metadata": {},
   "outputs": [],
   "source": [
    "import torch.optim as optim\n",
    "import torch.nn as nn\n",
    "import torch.nn.functional as F\n",
    "from torchvision import datasets, transforms\n",
    "from torch.utils.data import DataLoader \n",
    "import torch\n",
    "import matplotlib.pyplot as plt"
   ]
  },
  {
   "cell_type": "code",
   "execution_count": 8,
   "metadata": {},
   "outputs": [],
   "source": [
    "transform = transforms.Compose([transforms.ToTensor(), transforms.Normalize((0.5,), (0.5,))])\n",
    "\n",
    "train_dataset = datasets.MNIST(root=\"./data\", train=True, transform=transform, download=True)\n",
    "test_dataset = datasets.MNIST(root=\"./data\", train=False, transform=transform, download=True)\n",
    "\n",
    "train_loader = DataLoader(train_dataset, batch_size=64, shuffle=True)\n",
    "test_loader = DataLoader(test_dataset, batch_size=64, shuffle=False)"
   ]
  },
  {
   "cell_type": "code",
   "execution_count": 3,
   "metadata": {},
   "outputs": [],
   "source": [
    "# Net\n",
    "class Net(nn.Module):\n",
    "    def __init__(self):\n",
    "        super(Net,self).__init__()\n",
    "        self.conv1 = nn.Sequential(\n",
    "            nn.Conv2d(1,16,5,1,2),\n",
    "            nn.ReLU(),\n",
    "            nn.MaxPool2d(2)\n",
    "        )\n",
    "        self.conv2 = nn.Sequential(\n",
    "            nn.Conv2d(16,32,5,1,2),\n",
    "            nn.ReLU(),\n",
    "            nn.MaxPool2d(2)\n",
    "        )\n",
    "        self.out = nn.Linear(32*7*7,10)\n",
    "\n",
    "    def forward(self, x):\n",
    "        x = self.conv1(x)\n",
    "        x = self.conv2(x)\n",
    "\n",
    "        x = x.view(x.size(0), -1)\n",
    "        output = self.out(x)\n",
    "        return output"
   ]
  },
  {
   "cell_type": "code",
   "execution_count": 4,
   "metadata": {},
   "outputs": [],
   "source": [
    "model = Net().to(\"mps\")\n",
    "criterion = nn.CrossEntropyLoss()\n",
    "optimizer = optim.SGD(model.parameters(), lr=0.001, momentum=0.9)\n",
    "\n",
    "losses = []"
   ]
  },
  {
   "cell_type": "code",
   "execution_count": 5,
   "metadata": {},
   "outputs": [
    {
     "name": "stdout",
     "output_type": "stream",
     "text": [
      "Train Epoch: 0 [0/60000 (0%)]\tLoss: 2.315755\n",
      "Train Epoch: 0 [6400/60000 (11%)]\tLoss: 1.849571\n",
      "Train Epoch: 0 [12800/60000 (21%)]\tLoss: 0.781055\n",
      "Train Epoch: 0 [19200/60000 (32%)]\tLoss: 0.520596\n",
      "Train Epoch: 0 [25600/60000 (43%)]\tLoss: 0.277345\n",
      "Train Epoch: 0 [32000/60000 (53%)]\tLoss: 0.187742\n",
      "Train Epoch: 0 [38400/60000 (64%)]\tLoss: 0.273052\n",
      "Train Epoch: 0 [44800/60000 (75%)]\tLoss: 0.382256\n",
      "Train Epoch: 0 [51200/60000 (85%)]\tLoss: 0.153987\n",
      "Train Epoch: 0 [57600/60000 (96%)]\tLoss: 0.193771\n",
      "Train Epoch: 1 [0/60000 (0%)]\tLoss: 0.299562\n",
      "Train Epoch: 1 [6400/60000 (11%)]\tLoss: 0.129373\n",
      "Train Epoch: 1 [12800/60000 (21%)]\tLoss: 0.223988\n",
      "Train Epoch: 1 [19200/60000 (32%)]\tLoss: 0.136186\n",
      "Train Epoch: 1 [25600/60000 (43%)]\tLoss: 0.081298\n",
      "Train Epoch: 1 [32000/60000 (53%)]\tLoss: 0.097893\n",
      "Train Epoch: 1 [38400/60000 (64%)]\tLoss: 0.052082\n",
      "Train Epoch: 1 [44800/60000 (75%)]\tLoss: 0.061237\n",
      "Train Epoch: 1 [51200/60000 (85%)]\tLoss: 0.189183\n",
      "Train Epoch: 1 [57600/60000 (96%)]\tLoss: 0.137111\n",
      "Train Epoch: 2 [0/60000 (0%)]\tLoss: 0.078109\n",
      "Train Epoch: 2 [6400/60000 (11%)]\tLoss: 0.136646\n",
      "Train Epoch: 2 [12800/60000 (21%)]\tLoss: 0.027753\n",
      "Train Epoch: 2 [19200/60000 (32%)]\tLoss: 0.121618\n",
      "Train Epoch: 2 [25600/60000 (43%)]\tLoss: 0.274747\n",
      "Train Epoch: 2 [32000/60000 (53%)]\tLoss: 0.140381\n",
      "Train Epoch: 2 [38400/60000 (64%)]\tLoss: 0.125862\n",
      "Train Epoch: 2 [44800/60000 (75%)]\tLoss: 0.012705\n",
      "Train Epoch: 2 [51200/60000 (85%)]\tLoss: 0.091092\n",
      "Train Epoch: 2 [57600/60000 (96%)]\tLoss: 0.098720\n",
      "Train Epoch: 3 [0/60000 (0%)]\tLoss: 0.040649\n",
      "Train Epoch: 3 [6400/60000 (11%)]\tLoss: 0.159537\n",
      "Train Epoch: 3 [12800/60000 (21%)]\tLoss: 0.111350\n",
      "Train Epoch: 3 [19200/60000 (32%)]\tLoss: 0.194688\n",
      "Train Epoch: 3 [25600/60000 (43%)]\tLoss: 0.030268\n",
      "Train Epoch: 3 [32000/60000 (53%)]\tLoss: 0.039901\n",
      "Train Epoch: 3 [38400/60000 (64%)]\tLoss: 0.086648\n",
      "Train Epoch: 3 [44800/60000 (75%)]\tLoss: 0.008669\n",
      "Train Epoch: 3 [51200/60000 (85%)]\tLoss: 0.134399\n",
      "Train Epoch: 3 [57600/60000 (96%)]\tLoss: 0.060643\n",
      "Train Epoch: 4 [0/60000 (0%)]\tLoss: 0.074142\n",
      "Train Epoch: 4 [6400/60000 (11%)]\tLoss: 0.016695\n",
      "Train Epoch: 4 [12800/60000 (21%)]\tLoss: 0.084783\n",
      "Train Epoch: 4 [19200/60000 (32%)]\tLoss: 0.026879\n",
      "Train Epoch: 4 [25600/60000 (43%)]\tLoss: 0.023782\n",
      "Train Epoch: 4 [32000/60000 (53%)]\tLoss: 0.120590\n",
      "Train Epoch: 4 [38400/60000 (64%)]\tLoss: 0.063672\n",
      "Train Epoch: 4 [44800/60000 (75%)]\tLoss: 0.020187\n",
      "Train Epoch: 4 [51200/60000 (85%)]\tLoss: 0.042774\n",
      "Train Epoch: 4 [57600/60000 (96%)]\tLoss: 0.037845\n"
     ]
    }
   ],
   "source": [
    "for epoch in range(5):\n",
    "    for batch_idx, (data, target) in enumerate(train_loader):\n",
    "        data, target = data.to(\"mps\"), target.to(\"mps\")\n",
    "        optimizer.zero_grad()\n",
    "        output = model(data)\n",
    "        loss = criterion(output, target)\n",
    "        loss.backward()\n",
    "        optimizer.step()\n",
    "        if batch_idx % 100 == 0:\n",
    "            print('Train Epoch: {} [{}/{} ({:.0f}%)]\\tLoss: {:.6f}'.format(\n",
    "                epoch, batch_idx * len(data), len(train_loader.dataset),\n",
    "                100. * batch_idx / len(train_loader), loss.item()))\n",
    "        losses.append(loss.item())\n"
   ]
  },
  {
   "cell_type": "code",
   "execution_count": 6,
   "metadata": {},
   "outputs": [
    {
     "data": {
      "image/png": "[encoded data removed]",
      "text/plain": [
       "<Figure size 640x480 with 1 Axes>"
      ]
     },
     "metadata": {},
     "output_type": "display_data"
    }
   ],
   "source": [
    "plt.plot(losses)\n",
    "plt.title(\"Running Loss Over Batches\")\n",
    "plt.xlabel(\"Batch\")\n",
    "plt.ylabel(\"Loss\")\n",
    "plt.show()"
   ]
  },
  {
   "cell_type": "code",
   "execution_count": 7,
   "metadata": {},
   "outputs": [
    {
     "name": "stdout",
     "output_type": "stream",
     "text": [
      "Accuracy on the test set: 97.99%\n"
     ]
    }
   ],
   "source": [
    "model.eval()\n",
    "correct = 0\n",
    "total = 0\n",
    "\n",
    "with torch.no_grad():\n",
    "    for images, labels in test_loader:\n",
    "        images, labels = images.to(\"mps\"), labels.to(\"mps\")\n",
    "        outputs = model(images)\n",
    "        _, predicted = torch.max(outputs, 1)\n",
    "        total += labels.size(0)\n",
    "        correct += (predicted == labels).sum().item()\n",
    "\n",
    "accuracy = 100 * correct / total\n",
    "print(f\"Accuracy on the test set: {accuracy}%\")"
   ]
  }
 ],
 "metadata": {
  "kernelspec": {
   "display_name": "Python 3",
   "language": "python",
   "name": "python3"
  },
  "language_info": {
   "codemirror_mode": {
    "name": "ipython",
    "version": 3
   },
   "file_extension": ".py",
   "mimetype": "text/x-python",
   "name": "python",
   "nbconvert_exporter": "python",
   "pygments_lexer": "ipython3",
   "version": "3.9.6"
  },
  "orig_nbformat": 4
 },
 "nbformat": 4,
 "nbformat_minor": 2
}
