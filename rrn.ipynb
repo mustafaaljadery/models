{
 "cells": [
  {
   "cell_type": "markdown",
   "metadata": {},
   "source": [
    "## Recurrent Neural Network\n",
    "- The only difference between an MLP and a RNN is that an RNN has a feedback loop.\n",
    "- This feedback loops allows the model to keep relationships for sequential values.\n",
    "- We can unroll the feedback loop by making a copy of the neural network for each input value.\n",
    "- The two biggest problems in RNNs are the vanishing gradient problem and the exploding gradient problem. LSTMs, GRUs, and Transformers are used to address this problem.\n",
    "- The order that we input the data matters a lot. This is an autoregressive model.\n",
    "\n",
    "## Input and Hidden State\n",
    "- As stated above, RNNs are autoregressive models. The state of all previous data is called the hiden state.\n",
    "- The input state is the new input that is fed into the RNN at each time step. \n",
    "- The hidden state is the RNN's internal representation that summaries all the information it has seen up until that point.\n",
    "- The hidden size is the number of hidden units. (Basically the look back period) If you have a look back period of 100, then that is what is used for the forward calculation."
   ]
  },
  {
   "cell_type": "code",
   "execution_count": null,
   "metadata": {},
   "outputs": [],
   "source": [
    "import torch.optim as optim\n",
    "import torch.nn as nn\n",
    "import torch\n",
    "import torch.nn.functional as F"
   ]
  },
  {
   "cell_type": "code",
   "execution_count": null,
   "metadata": {},
   "outputs": [],
   "source": [
    "# Get Data"
   ]
  },
  {
   "cell_type": "code",
   "execution_count": null,
   "metadata": {},
   "outputs": [],
   "source": [
    "class RNN(nn.Module):\n",
    "    def __init__(self, input_size, hidden_size, output_size):\n",
    "        super(RNN, self).__init__()\n",
    "        self.hidden_size = hidden_size\n",
    "        self.hidden = nn.Linear(input_size + hidden_size, hidden_size)\n",
    "        self.output = nn.Linear(input_size + hidden_size, output_size)\n",
    "    \n",
    "    def forward(self, x, hidden_state):\n",
    "        combined = torch.cat((x, hidden_state), 1)\n",
    "        hidden = torch.ReLU(self.hidden(combined))\n",
    "        output = self.output(combined)\n",
    "\n",
    "        return output, hidden"
   ]
  },
  {
   "cell_type": "code",
   "execution_count": null,
   "metadata": {},
   "outputs": [],
   "source": [
    "hidden_size = 256\n",
    "learning_rate = 0.001\n",
    "\n",
    "# Must get these values from the data\n",
    "input_size = 1\n",
    "output_size = 1\n",
    "\n",
    "model = RNN(input_size, hidden_size, learning_rate)\n",
    "criterion = nn.CrossEntropyLoss()\n",
    "optimizer = torch.optim.AdamW(model.parameters(), lr=learning_rate)"
   ]
  },
  {
   "cell_type": "code",
   "execution_count": null,
   "metadata": {},
   "outputs": [],
   "source": [
    "# Training\n",
    "\n",
    "# Test dataset, must actually get the data\n",
    "train_dataset = []\n",
    "\n",
    "for epoch in range(5): \n",
    "    for i, (name, label) in enumerate(train_dataset):\n",
    "        for char in name: \n",
    "            output, hidden_state = model(char, hidden_state)\n",
    "        loss = criterion(output, label)\n",
    "\n",
    "        optimizer.zero_grad()\n",
    "        loss.backward()\n",
    "        optimizer.step()\n"
   ]
  },
  {
   "cell_type": "code",
   "execution_count": null,
   "metadata": {},
   "outputs": [],
   "source": [
    "# Testing\n",
    "\n",
    "# Must make a test dataset\n",
    "test_dataset = []\n",
    "\n",
    "num_correct = 0\n",
    "num_samples = len(test_dataset)\n",
    "\n",
    "model.eval()\n",
    "\n",
    "with torch.no_grad():\n",
    "    for name, label in test_dataset:\n",
    "        for char in name: \n",
    "            output, hidden_state = model(char, hidden_state)\n",
    "        _, pred = torch.max(output, dim=1)\n",
    "        num_correct += bool(pred==label)\n",
    "\n",
    "print(f\"Accuracy: {num_correct / num_samples * 100:.4f}%\")"
   ]
  }
 ],
 "metadata": {
  "kernelspec": {
   "display_name": "Python 3",
   "language": "python",
   "name": "python3"
  },
  "language_info": {
   "codemirror_mode": {
    "name": "ipython",
    "version": 3
   },
   "file_extension": ".py",
   "mimetype": "text/x-python",
   "name": "python",
   "nbconvert_exporter": "python",
   "pygments_lexer": "ipython3",
   "version": "3.9.6"
  },
  "orig_nbformat": 4
 },
 "nbformat": 4,
 "nbformat_minor": 2
}
