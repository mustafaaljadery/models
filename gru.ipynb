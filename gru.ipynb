{
 "cells": [
  {
   "cell_type": "markdown",
   "metadata": {},
   "source": [
    "# GRUs\n",
    "- They're the next innovation after LSTMs but before Transformers.\n",
    "- They are an adaptation of RNNs, similar to LSTMs\n",
    "- They have less tensor operators so they are speedier to train. \n",
    "- You can think of them as LSTMs without the short term memory, but they do more operations to the long term memory.\n",
    "- Researchers try both LSTMs and GRUs to see what works better for their usecase."
   ]
  }
 ],
 "metadata": {
  "language_info": {
   "name": "python"
  },
  "orig_nbformat": 4
 },
 "nbformat": 4,
 "nbformat_minor": 2
}
