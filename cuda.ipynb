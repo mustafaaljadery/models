{
 "cells": [
  {
   "cell_type": "markdown",
   "metadata": {},
   "source": [
    "# Cuda Programming\n",
    "\n",
    "CUDA is the parallel computing platform and API created by NVIDIA that allows you to use GPUs for high-performance computing tasks.\n",
    "\n",
    "It allows you to write code that is then executed by the GPUs.\n",
    "\n",
    "You write code in C and C++."
   ]
  },
  {
   "cell_type": "markdown",
   "metadata": {},
   "source": [
    "## The SIMT Model\n",
    "\n",
    "Classical Execution Model: \n",
    "- Sequential: Each element is executed one after the other.\n",
    "\n",
    "Single Instruction Multiple Threads (SIMT):\n",
    "- Parallel execution of instructions."
   ]
  },
  {
   "cell_type": "markdown",
   "metadata": {},
   "source": [
    "### Threads\n",
    "- A thread is a single instruction that can be executed independently in a computing device. \n",
    "- They are the lowest granularity of execution.\n",
    "\n",
    "### Thread Blocks\n",
    "- This is what we program in, this is the lowest programable entity.\n",
    "- We organize a bunch of threads together and call them a block.\n",
    "\n",
    "###  Warps (SIMT)\n",
    "- A group of threads that execute together in lockstep on GPUs. They all execute the same instruction together, thus achiving really fast performance.\n",
    "- All the threads in a warp start together at the same program address and execute on common instruction at the same time.\n",
    "\n",
    "**Thread blocks contain and organize indidivual threads, which are then executed in groups called warps.**\n",
    "\n",
    "### Grids\n",
    "- The higher-level organization of thread blocks when programming parallel algorithms for GPUs.\n",
    "- A grid consists of a collection of thread blocks that execute a kernel function.\n",
    "- The programmer defines the number of thread blocks in a grid.\n",
    "- Each thread block in the grid is numbered and can be referenced through its index.\n",
    "- Grids provide a coarse-grained decomposition of the problem into thread blocks that get mapped to streaming multiprocessors.\n",
    "\n",
    "**The grid the collection of thread blocks.**"
   ]
  },
  {
   "cell_type": "markdown",
   "metadata": {},
   "source": []
  }
 ],
 "metadata": {
  "language_info": {
   "name": "python"
  },
  "orig_nbformat": 4
 },
 "nbformat": 4,
 "nbformat_minor": 2
}
