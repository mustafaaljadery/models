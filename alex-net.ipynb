{
 "cells": [
  {
   "cell_type": "code",
   "execution_count": 59,
   "metadata": {},
   "outputs": [],
   "source": [
    "import torch.optim as optim\n",
    "import torch.nn as nn\n",
    "import torch.nn.functional as F\n",
    "from torchvision import datasets, transforms\n",
    "from torch.utils.data import DataLoader\n",
    "import torch\n",
    "import matplotlib.pyplot as plt"
   ]
  },
  {
   "cell_type": "code",
   "execution_count": 2,
   "metadata": {},
   "outputs": [
    {
     "name": "stdout",
     "output_type": "stream",
     "text": [
      "Downloading http://yann.lecun.com/exdb/mnist/train-images-idx3-ubyte.gz\n",
      "Downloading http://yann.lecun.com/exdb/mnist/train-images-idx3-ubyte.gz to ./data/MNIST/raw/train-images-idx3-ubyte.gz\n"
     ]
    },
    {
     "name": "stderr",
     "output_type": "stream",
     "text": [
      "100%|██████████| 9912422/9912422 [00:00<00:00, 21932849.04it/s]\n"
     ]
    },
    {
     "name": "stdout",
     "output_type": "stream",
     "text": [
      "Extracting ./data/MNIST/raw/train-images-idx3-ubyte.gz to ./data/MNIST/raw\n",
      "\n",
      "Downloading http://yann.lecun.com/exdb/mnist/train-labels-idx1-ubyte.gz\n",
      "Downloading http://yann.lecun.com/exdb/mnist/train-labels-idx1-ubyte.gz to ./data/MNIST/raw/train-labels-idx1-ubyte.gz\n"
     ]
    },
    {
     "name": "stderr",
     "output_type": "stream",
     "text": [
      "100%|██████████| 28881/28881 [00:00<00:00, 8085415.42it/s]"
     ]
    },
    {
     "name": "stdout",
     "output_type": "stream",
     "text": [
      "Extracting ./data/MNIST/raw/train-labels-idx1-ubyte.gz to ./data/MNIST/raw\n",
      "\n",
      "Downloading http://yann.lecun.com/exdb/mnist/t10k-images-idx3-ubyte.gz\n"
     ]
    },
    {
     "name": "stderr",
     "output_type": "stream",
     "text": [
      "\n"
     ]
    },
    {
     "name": "stdout",
     "output_type": "stream",
     "text": [
      "Downloading http://yann.lecun.com/exdb/mnist/t10k-images-idx3-ubyte.gz to ./data/MNIST/raw/t10k-images-idx3-ubyte.gz\n"
     ]
    },
    {
     "name": "stderr",
     "output_type": "stream",
     "text": [
      "100%|██████████| 1648877/1648877 [00:00<00:00, 22824648.75it/s]\n"
     ]
    },
    {
     "name": "stdout",
     "output_type": "stream",
     "text": [
      "Extracting ./data/MNIST/raw/t10k-images-idx3-ubyte.gz to ./data/MNIST/raw\n",
      "\n",
      "Downloading http://yann.lecun.com/exdb/mnist/t10k-labels-idx1-ubyte.gz\n",
      "Downloading http://yann.lecun.com/exdb/mnist/t10k-labels-idx1-ubyte.gz to ./data/MNIST/raw/t10k-labels-idx1-ubyte.gz\n"
     ]
    },
    {
     "name": "stderr",
     "output_type": "stream",
     "text": [
      "100%|██████████| 4542/4542 [00:00<00:00, 21846936.66it/s]"
     ]
    },
    {
     "name": "stdout",
     "output_type": "stream",
     "text": [
      "Extracting ./data/MNIST/raw/t10k-labels-idx1-ubyte.gz to ./data/MNIST/raw\n",
      "\n"
     ]
    },
    {
     "name": "stderr",
     "output_type": "stream",
     "text": [
      "\n"
     ]
    }
   ],
   "source": [
    "transform = transforms.Compose([transforms.ToTensor(), transforms.Normalize((0.5,), (0.5,))])\n",
    "\n",
    "train_dataset = datasets.MNIST(root=\"./data\", train=True, transform=transform, download=True)\n",
    "test_dataset = datasets.MNIST(root=\"./data\", train=False, transform=transform, download=True)\n",
    "\n",
    "train_loader = DataLoader(train_dataset, batch_size=64, shuffle=True)\n",
    "test_loader = DataLoader(test_dataset, batch_size=64, shuffle=False)"
   ]
  },
  {
   "cell_type": "code",
   "execution_count": 57,
   "metadata": {},
   "outputs": [],
   "source": [
    "class Net(nn.Module):\n",
    "    def __init__(self):\n",
    "        super(Net, self).__init__()\n",
    "        self.conv1 = nn.Conv2d(1, 64, 11, 4, 2)\n",
    "        self.conv2 = nn.Conv2d(64, 192, 5, 1, 2)\n",
    "        self.conv3 = nn.Conv2d(192, 384, 3, 1, 1)\n",
    "        self.conv4 = nn.Conv2d(384, 256, 3, 1, 1)\n",
    "        self.conv5 = nn.Conv2d(256, 256, 3, 2, 1)\n",
    "\n",
    "        self.maxpool = nn.MaxPool2d(2, 2)\n",
    "\n",
    "        self.avgpool = nn.AdaptiveAvgPool2d((6,6))\n",
    "        self.relu = nn.ReLU(inplace=True)\n",
    "\n",
    "        self.dropout = nn.Dropout(0.5)\n",
    "        self.linear1 = nn.Linear(9216, 4096)\n",
    "        self.linear2 = nn.Linear(4096, 4096)\n",
    "        self.linear3 = nn.Linear(4096,10)\n",
    "\n",
    "\n",
    "    def forward(self,x):\n",
    "        x = self.conv1(x)\n",
    "        x = self.relu(x)\n",
    "        #x = self.maxpool(x)\n",
    "        x = self.conv2(x)\n",
    "        x = self.relu(x)\n",
    "       # x = self.maxpool(x)\n",
    "        x = self.conv3(x)\n",
    "        x = self.relu(x)\n",
    "        x = self.conv4(x)\n",
    "        x = self.relu(x)\n",
    "        x = self.conv5(x)\n",
    "        x = self.relu(x)\n",
    "        #x = self.maxpool(x)\n",
    "\n",
    "        x = self.avgpool(x)\n",
    "        x = torch.flatten(x, 1)\n",
    "\n",
    "        x = self.dropout(x)\n",
    "        x = self.linear1(x)\n",
    "        x = self.relu(x)\n",
    "        x = self.dropout(x)\n",
    "        x = self.linear2(x)\n",
    "        x = self.relu(x)\n",
    "        x = self.linear3(x)\n",
    "\n",
    "        output = F.log_softmax(x, dim=1) \n",
    "        return output"
   ]
  },
  {
   "cell_type": "code",
   "execution_count": 68,
   "metadata": {},
   "outputs": [
    {
     "name": "stdout",
     "output_type": "stream",
     "text": [
      "Train Epoch: 0 [0/60000 (0%)]\tLoss: 2.302128\n",
      "Train Epoch: 0 [6400/60000 (11%)]\tLoss: 2.301184\n",
      "Train Epoch: 0 [12800/60000 (21%)]\tLoss: 2.300109\n",
      "Train Epoch: 0 [19200/60000 (32%)]\tLoss: 2.304980\n",
      "Train Epoch: 0 [25600/60000 (43%)]\tLoss: 2.300539\n",
      "Train Epoch: 0 [32000/60000 (53%)]\tLoss: 2.302698\n",
      "Train Epoch: 0 [38400/60000 (64%)]\tLoss: 2.304268\n",
      "Train Epoch: 0 [44800/60000 (75%)]\tLoss: 2.305591\n",
      "Train Epoch: 0 [51200/60000 (85%)]\tLoss: 2.302567\n",
      "Train Epoch: 0 [57600/60000 (96%)]\tLoss: 2.303118\n",
      "Train Epoch: 1 [0/60000 (0%)]\tLoss: 2.304557\n",
      "Train Epoch: 1 [6400/60000 (11%)]\tLoss: 2.308529\n",
      "Train Epoch: 1 [12800/60000 (21%)]\tLoss: 2.296481\n",
      "Train Epoch: 1 [19200/60000 (32%)]\tLoss: 2.299987\n",
      "Train Epoch: 1 [25600/60000 (43%)]\tLoss: 2.309984\n",
      "Train Epoch: 1 [32000/60000 (53%)]\tLoss: 2.299234\n",
      "Train Epoch: 1 [38400/60000 (64%)]\tLoss: 2.296135\n",
      "Train Epoch: 1 [44800/60000 (75%)]\tLoss: 2.301430\n",
      "Train Epoch: 1 [51200/60000 (85%)]\tLoss: 2.302186\n",
      "Train Epoch: 1 [57600/60000 (96%)]\tLoss: 2.297624\n",
      "Train Epoch: 2 [0/60000 (0%)]\tLoss: 2.296149\n",
      "Train Epoch: 2 [6400/60000 (11%)]\tLoss: 2.296228\n",
      "Train Epoch: 2 [12800/60000 (21%)]\tLoss: 2.296213\n",
      "Train Epoch: 2 [19200/60000 (32%)]\tLoss: 2.293379\n",
      "Train Epoch: 2 [25600/60000 (43%)]\tLoss: 2.290985\n",
      "Train Epoch: 2 [32000/60000 (53%)]\tLoss: 2.286947\n",
      "Train Epoch: 2 [38400/60000 (64%)]\tLoss: 2.288233\n",
      "Train Epoch: 2 [44800/60000 (75%)]\tLoss: 2.289763\n",
      "Train Epoch: 2 [51200/60000 (85%)]\tLoss: 2.287803\n",
      "Train Epoch: 2 [57600/60000 (96%)]\tLoss: 2.287750\n",
      "Train Epoch: 3 [0/60000 (0%)]\tLoss: 2.283614\n",
      "Train Epoch: 3 [6400/60000 (11%)]\tLoss: 2.275337\n",
      "Train Epoch: 3 [12800/60000 (21%)]\tLoss: 2.262592\n",
      "Train Epoch: 3 [19200/60000 (32%)]\tLoss: 2.242826\n",
      "Train Epoch: 3 [25600/60000 (43%)]\tLoss: 1.989668\n",
      "Train Epoch: 3 [32000/60000 (53%)]\tLoss: 1.764496\n",
      "Train Epoch: 3 [38400/60000 (64%)]\tLoss: 1.341050\n",
      "Train Epoch: 3 [44800/60000 (75%)]\tLoss: 0.824793\n",
      "Train Epoch: 3 [51200/60000 (85%)]\tLoss: 0.649315\n",
      "Train Epoch: 3 [57600/60000 (96%)]\tLoss: 0.472200\n",
      "Train Epoch: 4 [0/60000 (0%)]\tLoss: 0.455926\n",
      "Train Epoch: 4 [6400/60000 (11%)]\tLoss: 0.417421\n",
      "Train Epoch: 4 [12800/60000 (21%)]\tLoss: 0.433469\n",
      "Train Epoch: 4 [19200/60000 (32%)]\tLoss: 0.301341\n",
      "Train Epoch: 4 [25600/60000 (43%)]\tLoss: 0.309687\n",
      "Train Epoch: 4 [32000/60000 (53%)]\tLoss: 0.339840\n",
      "Train Epoch: 4 [38400/60000 (64%)]\tLoss: 0.301893\n",
      "Train Epoch: 4 [44800/60000 (75%)]\tLoss: 0.320523\n",
      "Train Epoch: 4 [51200/60000 (85%)]\tLoss: 0.198704\n",
      "Train Epoch: 4 [57600/60000 (96%)]\tLoss: 0.118575\n",
      "Train Epoch: 5 [0/60000 (0%)]\tLoss: 0.171892\n",
      "Train Epoch: 5 [6400/60000 (11%)]\tLoss: 0.183047\n",
      "Train Epoch: 5 [12800/60000 (21%)]\tLoss: 0.170043\n",
      "Train Epoch: 5 [19200/60000 (32%)]\tLoss: 0.254051\n",
      "Train Epoch: 5 [25600/60000 (43%)]\tLoss: 0.293130\n",
      "Train Epoch: 5 [32000/60000 (53%)]\tLoss: 0.225596\n",
      "Train Epoch: 5 [38400/60000 (64%)]\tLoss: 0.201212\n",
      "Train Epoch: 5 [44800/60000 (75%)]\tLoss: 0.175804\n",
      "Train Epoch: 5 [51200/60000 (85%)]\tLoss: 0.309910\n",
      "Train Epoch: 5 [57600/60000 (96%)]\tLoss: 0.257897\n",
      "Train Epoch: 6 [0/60000 (0%)]\tLoss: 0.279434\n",
      "Train Epoch: 6 [6400/60000 (11%)]\tLoss: 0.217016\n",
      "Train Epoch: 6 [12800/60000 (21%)]\tLoss: 0.127106\n",
      "Train Epoch: 6 [19200/60000 (32%)]\tLoss: 0.132486\n",
      "Train Epoch: 6 [25600/60000 (43%)]\tLoss: 0.141138\n",
      "Train Epoch: 6 [32000/60000 (53%)]\tLoss: 0.119226\n",
      "Train Epoch: 6 [38400/60000 (64%)]\tLoss: 0.125655\n",
      "Train Epoch: 6 [44800/60000 (75%)]\tLoss: 0.193753\n",
      "Train Epoch: 6 [51200/60000 (85%)]\tLoss: 0.065184\n",
      "Train Epoch: 6 [57600/60000 (96%)]\tLoss: 0.124902\n",
      "Train Epoch: 7 [0/60000 (0%)]\tLoss: 0.155826\n",
      "Train Epoch: 7 [6400/60000 (11%)]\tLoss: 0.301583\n",
      "Train Epoch: 7 [12800/60000 (21%)]\tLoss: 0.279869\n",
      "Train Epoch: 7 [19200/60000 (32%)]\tLoss: 0.166597\n",
      "Train Epoch: 7 [25600/60000 (43%)]\tLoss: 0.151929\n",
      "Train Epoch: 7 [32000/60000 (53%)]\tLoss: 0.027710\n",
      "Train Epoch: 7 [38400/60000 (64%)]\tLoss: 0.137146\n",
      "Train Epoch: 7 [44800/60000 (75%)]\tLoss: 0.143127\n",
      "Train Epoch: 7 [51200/60000 (85%)]\tLoss: 0.126002\n",
      "Train Epoch: 7 [57600/60000 (96%)]\tLoss: 0.046751\n",
      "Train Epoch: 8 [0/60000 (0%)]\tLoss: 0.038343\n",
      "Train Epoch: 8 [6400/60000 (11%)]\tLoss: 0.076714\n",
      "Train Epoch: 8 [12800/60000 (21%)]\tLoss: 0.152836\n",
      "Train Epoch: 8 [19200/60000 (32%)]\tLoss: 0.069440\n",
      "Train Epoch: 8 [25600/60000 (43%)]\tLoss: 0.073778\n",
      "Train Epoch: 8 [32000/60000 (53%)]\tLoss: 0.155516\n",
      "Train Epoch: 8 [38400/60000 (64%)]\tLoss: 0.171541\n",
      "Train Epoch: 8 [44800/60000 (75%)]\tLoss: 0.084930\n",
      "Train Epoch: 8 [51200/60000 (85%)]\tLoss: 0.042082\n",
      "Train Epoch: 8 [57600/60000 (96%)]\tLoss: 0.103115\n",
      "Train Epoch: 9 [0/60000 (0%)]\tLoss: 0.059457\n",
      "Train Epoch: 9 [6400/60000 (11%)]\tLoss: 0.183688\n",
      "Train Epoch: 9 [12800/60000 (21%)]\tLoss: 0.177344\n",
      "Train Epoch: 9 [19200/60000 (32%)]\tLoss: 0.317086\n",
      "Train Epoch: 9 [25600/60000 (43%)]\tLoss: 0.111901\n",
      "Train Epoch: 9 [32000/60000 (53%)]\tLoss: 0.090100\n",
      "Train Epoch: 9 [38400/60000 (64%)]\tLoss: 0.046537\n",
      "Train Epoch: 9 [44800/60000 (75%)]\tLoss: 0.102614\n",
      "Train Epoch: 9 [51200/60000 (85%)]\tLoss: 0.038193\n",
      "Train Epoch: 9 [57600/60000 (96%)]\tLoss: 0.061768\n",
      "Train Epoch: 10 [0/60000 (0%)]\tLoss: 0.070328\n",
      "Train Epoch: 10 [6400/60000 (11%)]\tLoss: 0.162723\n",
      "Train Epoch: 10 [12800/60000 (21%)]\tLoss: 0.101278\n",
      "Train Epoch: 10 [19200/60000 (32%)]\tLoss: 0.016690\n",
      "Train Epoch: 10 [25600/60000 (43%)]\tLoss: 0.237658\n",
      "Train Epoch: 10 [32000/60000 (53%)]\tLoss: 0.090507\n",
      "Train Epoch: 10 [38400/60000 (64%)]\tLoss: 0.028876\n",
      "Train Epoch: 10 [44800/60000 (75%)]\tLoss: 0.041069\n",
      "Train Epoch: 10 [51200/60000 (85%)]\tLoss: 0.034739\n",
      "Train Epoch: 10 [57600/60000 (96%)]\tLoss: 0.172642\n",
      "Train Epoch: 11 [0/60000 (0%)]\tLoss: 0.011626\n",
      "Train Epoch: 11 [6400/60000 (11%)]\tLoss: 0.123169\n",
      "Train Epoch: 11 [12800/60000 (21%)]\tLoss: 0.076325\n",
      "Train Epoch: 11 [19200/60000 (32%)]\tLoss: 0.184081\n",
      "Train Epoch: 11 [25600/60000 (43%)]\tLoss: 0.039789\n",
      "Train Epoch: 11 [32000/60000 (53%)]\tLoss: 0.029050\n",
      "Train Epoch: 11 [38400/60000 (64%)]\tLoss: 0.116469\n",
      "Train Epoch: 11 [44800/60000 (75%)]\tLoss: 0.142585\n",
      "Train Epoch: 11 [51200/60000 (85%)]\tLoss: 0.098679\n",
      "Train Epoch: 11 [57600/60000 (96%)]\tLoss: 0.080819\n",
      "Train Epoch: 12 [0/60000 (0%)]\tLoss: 0.035184\n",
      "Train Epoch: 12 [6400/60000 (11%)]\tLoss: 0.054519\n",
      "Train Epoch: 12 [12800/60000 (21%)]\tLoss: 0.086906\n",
      "Train Epoch: 12 [19200/60000 (32%)]\tLoss: 0.012160\n",
      "Train Epoch: 12 [25600/60000 (43%)]\tLoss: 0.020600\n",
      "Train Epoch: 12 [32000/60000 (53%)]\tLoss: 0.079405\n",
      "Train Epoch: 12 [38400/60000 (64%)]\tLoss: 0.175416\n",
      "Train Epoch: 12 [44800/60000 (75%)]\tLoss: 0.106720\n",
      "Train Epoch: 12 [51200/60000 (85%)]\tLoss: 0.052399\n",
      "Train Epoch: 12 [57600/60000 (96%)]\tLoss: 0.060252\n",
      "Train Epoch: 13 [0/60000 (0%)]\tLoss: 0.016661\n",
      "Train Epoch: 13 [6400/60000 (11%)]\tLoss: 0.080517\n",
      "Train Epoch: 13 [12800/60000 (21%)]\tLoss: 0.020749\n",
      "Train Epoch: 13 [19200/60000 (32%)]\tLoss: 0.032708\n",
      "Train Epoch: 13 [25600/60000 (43%)]\tLoss: 0.067999\n",
      "Train Epoch: 13 [32000/60000 (53%)]\tLoss: 0.010866\n",
      "Train Epoch: 13 [38400/60000 (64%)]\tLoss: 0.054879\n",
      "Train Epoch: 13 [44800/60000 (75%)]\tLoss: 0.080278\n",
      "Train Epoch: 13 [51200/60000 (85%)]\tLoss: 0.028012\n",
      "Train Epoch: 13 [57600/60000 (96%)]\tLoss: 0.017337\n",
      "Train Epoch: 14 [0/60000 (0%)]\tLoss: 0.033334\n",
      "Train Epoch: 14 [6400/60000 (11%)]\tLoss: 0.037031\n",
      "Train Epoch: 14 [12800/60000 (21%)]\tLoss: 0.032363\n",
      "Train Epoch: 14 [19200/60000 (32%)]\tLoss: 0.044786\n",
      "Train Epoch: 14 [25600/60000 (43%)]\tLoss: 0.105026\n",
      "Train Epoch: 14 [32000/60000 (53%)]\tLoss: 0.043551\n",
      "Train Epoch: 14 [38400/60000 (64%)]\tLoss: 0.010001\n",
      "Train Epoch: 14 [44800/60000 (75%)]\tLoss: 0.067660\n",
      "Train Epoch: 14 [51200/60000 (85%)]\tLoss: 0.031576\n",
      "Train Epoch: 14 [57600/60000 (96%)]\tLoss: 0.030644\n",
      "Train Epoch: 15 [0/60000 (0%)]\tLoss: 0.049671\n",
      "Train Epoch: 15 [6400/60000 (11%)]\tLoss: 0.154437\n",
      "Train Epoch: 15 [12800/60000 (21%)]\tLoss: 0.067558\n",
      "Train Epoch: 15 [19200/60000 (32%)]\tLoss: 0.012048\n",
      "Train Epoch: 15 [25600/60000 (43%)]\tLoss: 0.033848\n",
      "Train Epoch: 15 [32000/60000 (53%)]\tLoss: 0.030343\n",
      "Train Epoch: 15 [38400/60000 (64%)]\tLoss: 0.150521\n",
      "Train Epoch: 15 [44800/60000 (75%)]\tLoss: 0.094278\n",
      "Train Epoch: 15 [51200/60000 (85%)]\tLoss: 0.037429\n",
      "Train Epoch: 15 [57600/60000 (96%)]\tLoss: 0.028283\n",
      "Train Epoch: 16 [0/60000 (0%)]\tLoss: 0.110328\n",
      "Train Epoch: 16 [6400/60000 (11%)]\tLoss: 0.023393\n",
      "Train Epoch: 16 [12800/60000 (21%)]\tLoss: 0.109208\n",
      "Train Epoch: 16 [19200/60000 (32%)]\tLoss: 0.021360\n",
      "Train Epoch: 16 [25600/60000 (43%)]\tLoss: 0.044136\n",
      "Train Epoch: 16 [32000/60000 (53%)]\tLoss: 0.105023\n",
      "Train Epoch: 16 [38400/60000 (64%)]\tLoss: 0.101341\n",
      "Train Epoch: 16 [44800/60000 (75%)]\tLoss: 0.003326\n",
      "Train Epoch: 16 [51200/60000 (85%)]\tLoss: 0.026591\n",
      "Train Epoch: 16 [57600/60000 (96%)]\tLoss: 0.108631\n",
      "Train Epoch: 17 [0/60000 (0%)]\tLoss: 0.043344\n",
      "Train Epoch: 17 [6400/60000 (11%)]\tLoss: 0.059852\n",
      "Train Epoch: 17 [12800/60000 (21%)]\tLoss: 0.203453\n",
      "Train Epoch: 17 [19200/60000 (32%)]\tLoss: 0.028203\n",
      "Train Epoch: 17 [25600/60000 (43%)]\tLoss: 0.048500\n",
      "Train Epoch: 17 [32000/60000 (53%)]\tLoss: 0.036098\n",
      "Train Epoch: 17 [38400/60000 (64%)]\tLoss: 0.210787\n",
      "Train Epoch: 17 [44800/60000 (75%)]\tLoss: 0.087869\n",
      "Train Epoch: 17 [51200/60000 (85%)]\tLoss: 0.043682\n",
      "Train Epoch: 17 [57600/60000 (96%)]\tLoss: 0.041932\n",
      "Train Epoch: 18 [0/60000 (0%)]\tLoss: 0.105033\n",
      "Train Epoch: 18 [6400/60000 (11%)]\tLoss: 0.035891\n",
      "Train Epoch: 18 [12800/60000 (21%)]\tLoss: 0.014156\n",
      "Train Epoch: 18 [19200/60000 (32%)]\tLoss: 0.025081\n",
      "Train Epoch: 18 [25600/60000 (43%)]\tLoss: 0.086152\n",
      "Train Epoch: 18 [32000/60000 (53%)]\tLoss: 0.084178\n",
      "Train Epoch: 18 [38400/60000 (64%)]\tLoss: 0.068676\n",
      "Train Epoch: 18 [44800/60000 (75%)]\tLoss: 0.129632\n",
      "Train Epoch: 18 [51200/60000 (85%)]\tLoss: 0.041733\n",
      "Train Epoch: 18 [57600/60000 (96%)]\tLoss: 0.019667\n",
      "Train Epoch: 19 [0/60000 (0%)]\tLoss: 0.022776\n",
      "Train Epoch: 19 [6400/60000 (11%)]\tLoss: 0.009314\n",
      "Train Epoch: 19 [12800/60000 (21%)]\tLoss: 0.017917\n",
      "Train Epoch: 19 [19200/60000 (32%)]\tLoss: 0.014474\n",
      "Train Epoch: 19 [25600/60000 (43%)]\tLoss: 0.009655\n",
      "Train Epoch: 19 [32000/60000 (53%)]\tLoss: 0.119349\n",
      "Train Epoch: 19 [38400/60000 (64%)]\tLoss: 0.032662\n",
      "Train Epoch: 19 [44800/60000 (75%)]\tLoss: 0.013282\n",
      "Train Epoch: 19 [51200/60000 (85%)]\tLoss: 0.061427\n",
      "Train Epoch: 19 [57600/60000 (96%)]\tLoss: 0.121243\n"
     ]
    }
   ],
   "source": [
    "model = Net().to(\"mps\")\n",
    "criterion = nn.CrossEntropyLoss()\n",
    "optimizer = optim.SGD(model.parameters(), lr=0.001, momentum=0.9)\n",
    "\n",
    "losses = []\n",
    "\n",
    "for epoch in range(20):\n",
    "     for batch_idx, (data, target) in enumerate(train_loader):\n",
    "        data, target = data.to(\"mps\"), target.to(\"mps\")\n",
    "        optimizer.zero_grad()\n",
    "        output = model(data)\n",
    "        loss = criterion(output, target)\n",
    "        loss.backward()\n",
    "        optimizer.step()\n",
    "        if batch_idx % 100 == 0:\n",
    "            print('Train Epoch: {} [{}/{} ({:.0f}%)]\\tLoss: {:.6f}'.format(\n",
    "                epoch, batch_idx * len(data), len(train_loader.dataset),\n",
    "                100. * batch_idx / len(train_loader), loss.item()))\n",
    "        losses.append(loss.item())"
   ]
  },
  {
   "cell_type": "code",
   "execution_count": 64,
   "metadata": {},
   "outputs": [
    {
     "data": {
      "image/png": "[encoded data removed]",
      "text/plain": [
       "<Figure size 640x480 with 1 Axes>"
      ]
     },
     "metadata": {},
     "output_type": "display_data"
    }
   ],
   "source": [
    "plt.plot(losses)\n",
    "plt.title(\"Running Loss Over Batches\")\n",
    "plt.xlabel(\"Batch\")\n",
    "plt.ylabel(\"Loss\")\n",
    "plt.show()"
   ]
  },
  {
   "cell_type": "code",
   "execution_count": 65,
   "metadata": {},
   "outputs": [
    {
     "name": "stdout",
     "output_type": "stream",
     "text": [
      "Accuracy on the test set: 97.44%\n"
     ]
    }
   ],
   "source": [
    "model.eval()\n",
    "correct = 0\n",
    "total = 0\n",
    "\n",
    "\n",
    "with torch.no_grad():\n",
    "    for images, labels in test_loader:\n",
    "        images, labels = images.to(\"mps\"), labels.to(\"mps\")\n",
    "        outputs = model(images)\n",
    "        _, predicted = torch.max(outputs, 1)\n",
    "        total += labels.size(0)\n",
    "        correct += (predicted == labels).sum().item()\n",
    "\n",
    "accuracy = 100 * correct / total\n",
    "print(f\"Accuracy on the test set: {accuracy}%\")"
   ]
  }
 ],
 "metadata": {
  "kernelspec": {
   "display_name": "Python 3",
   "language": "python",
   "name": "python3"
  },
  "language_info": {
   "codemirror_mode": {
    "name": "ipython",
    "version": 3
   },
   "file_extension": ".py",
   "mimetype": "text/x-python",
   "name": "python",
   "nbconvert_exporter": "python",
   "pygments_lexer": "ipython3",
   "version": "3.9.6"
  },
  "orig_nbformat": 4
 },
 "nbformat": 4,
 "nbformat_minor": 2
}
